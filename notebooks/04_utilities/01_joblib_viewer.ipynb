{
 "cells": [
  {
   "cell_type": "code",
   "execution_count": 3,
   "metadata": {},
   "outputs": [
    {
     "name": "stdout",
     "output_type": "stream",
     "text": [
      "Type of loaded data: <class 'sklearn.preprocessing._label.LabelEncoder'>\n",
      "Locations:\n",
      "0: BT01\n",
      "1: BT02\n",
      "2: BT03\n",
      "3: BT04\n",
      "4: BT05\n",
      "5: BT06\n",
      "6: BT07\n",
      "\n",
      "Total number of locations: 7\n"
     ]
    },
    {
     "name": "stderr",
     "output_type": "stream",
     "text": [
      "d:\\bus-schedule-app\\.venv\\Lib\\site-packages\\sklearn\\base.py:376: InconsistentVersionWarning: Trying to unpickle estimator LabelEncoder from version 1.5.1 when using version 1.5.2. This might lead to breaking code or invalid results. Use at your own risk. For more info please refer to:\n",
      "https://scikit-learn.org/stable/model_persistence.html#security-maintainability-limitations\n",
      "  warnings.warn(\n"
     ]
    }
   ],
   "source": [
    "import joblib\n",
    "import os\n",
    "\n",
    "# Adjust this path to where your joblib file is located\n",
    "current_dir = os.path.dirname(os.getcwd())\n",
    "location_mapping_path = os.path.join(current_dir, 'data', 'processed', 'location_mapping.joblib')\n",
    "\n",
    "# Load the joblib file\n",
    "location_encoder = joblib.load(location_mapping_path)\n",
    "\n",
    "# Print the type of the loaded object\n",
    "print(f\"Type of loaded data: {type(location_encoder)}\")\n",
    "\n",
    "# If it's a LabelEncoder, print the classes\n",
    "if hasattr(location_encoder, 'classes_'):\n",
    "    print(\"Locations:\")\n",
    "    for i, location in enumerate(location_encoder.classes_):\n",
    "        print(f\"{i}: {location}\")\n",
    "\n",
    "# Print the total number of locations\n",
    "print(f\"\\nTotal number of locations: {len(location_encoder.classes_)}\")"
   ]
  }
 ],
 "metadata": {
  "kernelspec": {
   "display_name": ".venv",
   "language": "python",
   "name": "python3"
  },
  "language_info": {
   "codemirror_mode": {
    "name": "ipython",
    "version": 3
   },
   "file_extension": ".py",
   "mimetype": "text/x-python",
   "name": "python",
   "nbconvert_exporter": "python",
   "pygments_lexer": "ipython3",
   "version": "3.11.6"
  }
 },
 "nbformat": 4,
 "nbformat_minor": 2
}
